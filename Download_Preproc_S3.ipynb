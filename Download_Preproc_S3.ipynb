{
 "cells": [
  {
   "cell_type": "code",
   "execution_count": null,
   "id": "77c81a9e-ed15-4149-9592-3d73712036ca",
   "metadata": {},
   "outputs": [],
   "source": [
    "#Starting with the baseline Google Contrail Dataset file of the format json-00000-of-00100, shortened to filename where the 000xx matches the original file name of the 000xx of 00100 format\n",
    "import json\n",
    "count=0\n",
    "with open('/root/file00012.json') as f:  #https://stackoverflow.com/questions/21533894/how-to-read-line-delimited-json-from-large-file-line-by-line\n",
    "    for line in f:\n",
    "        j_content = json.loads(line)\n",
    "        count=count+1\n",
    "        outfile = \"outfile00012_\" + str(count) + \".json\" #https://www.geeksforgeeks.org/reading-and-writing-json-to-a-file-in-python/\n",
    "        with open(outfile, \"w\") as outfile:\n",
    "            json.dump(j_content, outfile)\n",
    "            \n",
    "#Result is the listing of individual files broken from the original google source, typically 40 or so files embedded within the original Google bucket download file"
   ]
  },
  {
   "cell_type": "code",
   "execution_count": null,
   "id": "e2f129d9-f6ab-4410-b62a-43f292567309",
   "metadata": {},
   "outputs": [],
   "source": [
    "pwd()"
   ]
  },
  {
   "cell_type": "code",
   "execution_count": null,
   "id": "0658caf9-84c8-4642-ba78-f0b8f3213929",
   "metadata": {},
   "outputs": [],
   "source": [
    "#This will read the files in a list\n",
    "import os\n",
    "import numpy as np\n",
    "bbox_path = '/root/contrail_json'\n",
    "json_files = [f for f in os.listdir(bbox_path) if f.endswith('.json')] #https://stackoverflow.com/questions/3964681/find-all-files-in-a-directory-with-extension-txt-in-python"
   ]
  },
  {
   "cell_type": "code",
   "execution_count": null,
   "id": "0b8b318c-d64c-4837-be72-5c44933c65a3",
   "metadata": {},
   "outputs": [],
   "source": [
    "#From Landsat_Contrails_Dataset original .ipynb file\n",
    "def path_from_filename(landsat_filename):\n",
    "  \"\"\"Returns the full GCP filepath for the provided `landsat_filename`.\n",
    "\n",
    "  An example filename looks like:\n",
    "  LC08_L1TP_221074_20181218_20181227_01_T1_B10.TIF\n",
    "\n",
    "  The returned path ends up looking like:\n",
    "  gs://gcp-public-data-landsat/LC08/01/221/074/LC08_L1TP_221074_20181218_20181227_01_T1/LC08_L1TP_221074_20181218_20181227_01_T1_B10.TIF\n",
    "\n",
    "  Args:\n",
    "    landsat_filename: str, file name of a landsat scene.\n",
    "  Returns:\n",
    "    str, full path to the corresponding landsat scene.\n",
    "  \"\"\"\n",
    "  split_name = landsat_filename.split('_')\n",
    "  path, row = split_name[2][:3], split_name[2][3:]\n",
    "  bands = split_name[0]  # Either LC08 or LT08\n",
    "  parent_dir = '_'.join(split_name[:-1])\n",
    "  return os.path.join(f'gs://gcp-public-data-landsat/{bands}/01/',\n",
    "                      path, row, parent_dir, landsat_filename)\n",
    "\n",
    "_ = \"\"\"\n",
    "Copyright 2021 The Landsat Contrails Dataset Authors.\n",
    "\n",
    "Licensed under the Apache License, Version 2.0 (the \"License\");                                                         \n",
    "you may not use this file except in compliance with the License.                                                        \n",
    "You may obtain a copy of the License at                                                                                 \n",
    "                                                                                                                        \n",
    "    https://www.apache.org/licenses/LICENSE-2.0                                                                         \n",
    "                                                                                                                        \n",
    "Unless required by applicable law or agreed to in writing, software                                                     \n",
    "distributed under the License is distributed on an \"AS IS\" BASIS,                                                       \n",
    "WITHOUT WARRANTIES OR CONDITIONS OF ANY KIND, either express or implied.                                                \n",
    "See the License for the specific language governing permissions and                                                     \n",
    "limitations under the License.\n",
    "\"\"\""
   ]
  },
  {
   "cell_type": "code",
   "execution_count": null,
   "id": "6bc1dd20-5e34-4d82-b61f-8e92246852c9",
   "metadata": {},
   "outputs": [],
   "source": [
    "!pip install gsutil"
   ]
  },
  {
   "cell_type": "code",
   "execution_count": null,
   "id": "35770348-46cd-43a7-969c-783a8ce0931c",
   "metadata": {},
   "outputs": [],
   "source": [
    "#From DrawBoundingBoxesOnImage.ipynb from Summer Group\n",
    "\n",
    "#This will porse the contrails from each individual contrail dataset reference, if >0 download images and place in a Positive folder, otherwise negative\n",
    "\n",
    "import os\n",
    "import numpy as np\n",
    "bbox_path = '/root/contrail_json'\n",
    "yolo_path = '/root/contrail_processed'\n",
    "\n",
    "for filename in json_files:\n",
    "  f = open(os.path.join(bbox_path,filename))\n",
    "  indiv_json_file = json.loads(f.read()) # reads file in as a python object\n",
    "  list_of_polygons = indiv_json_file['polygons']\n",
    "  num_of_contrails_infile = (len(list_of_polygons))\n",
    "  current_contrail = 0\n",
    "  image_size = 1400\n",
    "  classifier = np.array([0])\n",
    "  image_file = indiv_json_file['filename']\n",
    "\n",
    "  while current_contrail < num_of_contrails_infile:\n",
    "    print(list_of_polygons[current_contrail][-1])  #verification\n",
    "    if len(list_of_polygons[current_contrail][-1]) < 4:\n",
    "      print(filename)\n",
    "      current_contrail = current_contrail + 1\n",
    "      continue\n",
    "    #perform swap\n",
    "    x2 = list_of_polygons[current_contrail][-1][1]\n",
    "    y1 = list_of_polygons[current_contrail][-1][2] \n",
    "    temp = copy.deepcopy(list_of_polygons[current_contrail][-1][1]) # store x2 in temp\n",
    "    x2 = copy.deepcopy(y1)\n",
    "    y1 = copy.deepcopy(temp)\n",
    "    list_of_polygons[current_contrail][-1][1] = x2\n",
    "    list_of_polygons[current_contrail][-1][2] = y1\n",
    "    print(list_of_polygons[current_contrail][-1]) # verification\n",
    "\n",
    "    fileType = '.txt'\n",
    "    textfile_name_list = filename.split(\".\") \n",
    "    textfile_name = textfile_name_list[0]+ fileType\n",
    "\n",
    "    contrail1 = np.array(list_of_polygons[current_contrail][-1]) # convert list to a numpy arry\n",
    "    contrail1 = contrail1/image_size  # normalize bounding box\n",
    "    print(contrail1) # verification \n",
    "    y = open(os.path.join(yolo_path,textfile_name), 'a') # open text file\n",
    "    classifier = list(classifier)\n",
    "    contrail1 = list(contrail1)\n",
    "    for num in classifier:\n",
    "      y.write(str(num))\n",
    "      y.write(\" \")\n",
    "    for number in contrail1:\n",
    "      y.write(str(number))\n",
    "      y.write(\" \")\n",
    "    y.write(\" \\n\")\n",
    "    current_contrail = current_contrail + 1\n",
    "    \n",
    "    print(\" \")\n",
    "  print(current_contrail)\n",
    "  print(str(current_contrail) + ': ' + filename + \" \" + image_file)\n",
    "  if current_contrail==0:\n",
    "    folder='Neg'\n",
    "  else:\n",
    "    folder='Pos'\n",
    "  filename_11um = image_file\n",
    "  filename_12um = filename_11um.replace('B10.TIF', 'B11.TIF')\n",
    "  filename_1370nm = filename_11um.replace('B10.TIF', 'B9.TIF')\n",
    "  filename_red =  filename_11um.replace('B10.TIF', 'B4.TIF')\n",
    "  filename_green =  filename_11um.replace('B10.TIF', 'B3.TIF')\n",
    "  filename_blue =  filename_11um.replace('B10.TIF', 'B2.TIF')\n",
    "  filename_mtl = filename_11um.replace('B10.TIF', 'MTL.txt')\n",
    "\n",
    "  !gsutil cp {path_from_filename(filename_11um)} /root/contrail_processed/{folder}/\n",
    "  !gsutil cp {path_from_filename(filename_12um)} /root/contrail_processed/{folder}/\n",
    "  !gsutil cp {path_from_filename(filename_1370nm)} /root/contrail_processed/{folder}/\n",
    "  !gsutil cp {path_from_filename(filename_red)} /root/contrail_processed/{folder}/\n",
    "  !gsutil cp {path_from_filename(filename_green)} /root/contrail_processed/{folder}/\n",
    "  !gsutil cp {path_from_filename(filename_blue)} /root/contrail_processed/{folder}/\n",
    "  !gsutil cp {path_from_filename(filename_mtl)} /root/contrail_processed/{folder}/\n",
    "\n",
    "  path_11um = os.path.join('/root/contrail_processed/{folder}/', filename_11um)\n",
    "  path_12um = os.path.join('/root/contrail_processed/{folder}/', filename_12um)\n",
    "  path_1370nm = os.path.join('/root/contrail_processed/{folder}/', filename_1370nm)\n",
    "  path_red = os.path.join('/root/contrail_processed/{folder}/', filename_red)\n",
    "  path_green = os.path.join('/root/contrail_processed/{folder}/', filename_green)\n",
    "  path_blue = os.path.join('/root/contrail_processed/{folder}/', filename_blue)\n",
    "  path_mtl = os.path.join('/root/contrail_processed/{folder}/', filename_mtl)"
   ]
  },
  {
   "cell_type": "code",
   "execution_count": null,
   "id": "9e09e478-94a4-4c89-9e47-dd2ff19c7bc7",
   "metadata": {},
   "outputs": [],
   "source": [
    "#Convert to .JPG\n",
    "#Note, 5 times faster on GPU ...about 2 seconds per image vs. 0 otherwise"
   ]
  },
  {
   "cell_type": "code",
   "execution_count": null,
   "id": "cadefb98-b58e-4780-ae47-e97c4fa499d8",
   "metadata": {},
   "outputs": [],
   "source": [
    "import os\n",
    "tif_files = [f for f in os.listdir('/root/contrail_processed/Pos') if f.endswith('.TIF')]"
   ]
  },
  {
   "cell_type": "code",
   "execution_count": null,
   "id": "39fd7b64-f53a-4dfb-99ca-efa30f29338a",
   "metadata": {},
   "outputs": [],
   "source": [
    "os.chdir('/root/contrail_processed/Pos')"
   ]
  },
  {
   "cell_type": "code",
   "execution_count": null,
   "id": "0e8f8e36-c220-4dc3-a65b-41cfe17e66f2",
   "metadata": {},
   "outputs": [],
   "source": [
    "from PIL import Image\n",
    "import matplotlib\n",
    "import matplotlib.pyplot as plt\n",
    "%matplotlib inline\n",
    "for filename in tif_files:\n",
    "    im=Image.open(filename)\n",
    "    new_jpeg = filename.replace(\"TIF\", \"JPG\") #https://www.w3schools.com/python/ref_string_replace.asp\n",
    "    plt.imsave(new_jpeg, im)"
   ]
  },
  {
   "cell_type": "code",
   "execution_count": null,
   "id": "8cea7c33-62fe-4de9-b9c6-08342befc411",
   "metadata": {},
   "outputs": [],
   "source": [
    "import os\n",
    "tif_files = [f for f in os.listdir('/root/contrail_processed/Neg') if f.endswith('.TIF')]"
   ]
  },
  {
   "cell_type": "code",
   "execution_count": null,
   "id": "b358dcbf-9746-4aaa-8426-e664c3f2cfaf",
   "metadata": {},
   "outputs": [],
   "source": [
    "os.chdir('/root/contrail_processed/Neg')"
   ]
  },
  {
   "cell_type": "code",
   "execution_count": null,
   "id": "55466f04-8e45-4cb6-bcc1-fad5f4f67b61",
   "metadata": {},
   "outputs": [],
   "source": [
    "from PIL import Image\n",
    "import matplotlib\n",
    "import matplotlib.pyplot as plt\n",
    "%matplotlib inline\n",
    "for filename in tif_files:\n",
    "    im=Image.open(filename)\n",
    "    new_jpeg = filename.replace(\"TIF\", \"JPG\") #https://www.w3schools.com/python/ref_string_replace.asp\n",
    "    plt.imsave(new_jpeg, im)"
   ]
  },
  {
   "cell_type": "code",
   "execution_count": null,
   "id": "6a209ad5-a0e2-4056-bd6a-175274c6a694",
   "metadata": {},
   "outputs": [],
   "source": [
    "#AWS CLI examples copying to S3 buckets"
   ]
  },
  {
   "cell_type": "code",
   "execution_count": null,
   "id": "c011da0d-652a-417d-acaf-e929f23132e4",
   "metadata": {},
   "outputs": [],
   "source": [
    "!aws s3 cp s3://contrail-classification-input-101522/neg/ s3://contrail-classification-input-b4/neg/ --recursive --exclude \"*\" --include \"*B4*\" \n",
    "#https://stackoverflow.com/questions/38834708/how-can-i-use-wildcards-to-cp-a-group-of-files-with-the-aws-cli"
   ]
  },
  {
   "cell_type": "code",
   "execution_count": null,
   "id": "e50a04e8-ff69-4e13-be63-4fb8a00b823b",
   "metadata": {},
   "outputs": [],
   "source": [
    "!aws s3 cp s3://contrail-classification-input-101022/neg/ s3://contrail-classification-input-b4/neg/ --recursive --exclude \"*\" --include \"*B4*\" \n",
    "#https://stackoverflow.com/questions/38834708/how-can-i-use-wildcards-to-cp-a-group-of-files-with-the-aws-cli"
   ]
  },
  {
   "cell_type": "code",
   "execution_count": null,
   "id": "15cde5e6-aa9a-4263-aa96-a261906ad71c",
   "metadata": {},
   "outputs": [],
   "source": [
    "!aws s3 cp s3://contrail-classification-input-101522/pos/ s3://contrail-classification-input-b4/pos/ --recursive --exclude \"*\" --include \"*B4*\" "
   ]
  },
  {
   "cell_type": "code",
   "execution_count": null,
   "id": "72d16ccf-99e2-4d5d-b6ce-a0b8d7eff9e6",
   "metadata": {},
   "outputs": [],
   "source": [
    "!aws s3 cp s3://contrail-classification-input-101022/pos/ s3://contrail-classification-input-b4/pos/ --recursive --exclude \"*\" --include \"*B4*\" "
   ]
  },
  {
   "cell_type": "code",
   "execution_count": null,
   "id": "1488301e-61ab-4d51-acbe-4caf60410822",
   "metadata": {},
   "outputs": [],
   "source": []
  }
 ],
 "metadata": {
  "instance_type": "ml.g4dn.xlarge",
  "kernelspec": {
   "display_name": "Python 3 (Data Science)",
   "language": "python",
   "name": "python3__SAGEMAKER_INTERNAL__arn:aws:sagemaker:us-east-1:081325390199:image/datascience-1.0"
  },
  "language_info": {
   "codemirror_mode": {
    "name": "ipython",
    "version": 3
   },
   "file_extension": ".py",
   "mimetype": "text/x-python",
   "name": "python",
   "nbconvert_exporter": "python",
   "pygments_lexer": "ipython3",
   "version": "3.7.10"
  }
 },
 "nbformat": 4,
 "nbformat_minor": 5
}
