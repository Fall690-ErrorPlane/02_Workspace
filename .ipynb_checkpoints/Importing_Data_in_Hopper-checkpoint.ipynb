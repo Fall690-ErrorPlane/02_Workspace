{
 "cells": [
  {
   "cell_type": "markdown",
   "metadata": {},
   "source": [
    "This notebook is intended to show the efforts of Team ErrorPlane importing contrail images into the Hopper enviroment and converting the files into .jpegs"
   ]
  },
  {
   "cell_type": "code",
   "execution_count": null,
   "metadata": {
    "colab": {
     "background_save": true,
     "base_uri": "https://localhost:8080/"
    },
    "id": "LlSdymiQ4J_j",
    "outputId": "fac3f54b-8e28-4a24-b120-f3a5eb6260ab"
   },
   "outputs": [],
   "source": [
    "import json\n",
    "import os"
   ]
  },
  {
   "cell_type": "markdown",
   "metadata": {},
   "source": [
    "This next cell is a Google written cell. It parses a landsat_filename and returns the full path to the img"
   ]
  },
  {
   "cell_type": "code",
   "execution_count": null,
   "metadata": {
    "id": "lvU7M6K_962u"
   },
   "outputs": [],
   "source": [
    "# starting the file definitions this is the 1st cell (100% Google written cell)\n",
    "def path_from_filename(landsat_filename):\n",
    "  \"\"\"Returns the full GCP filepath for the provided `landsat_filename`.\n",
    "\n",
    "  An example filename looks like:\n",
    "  LC08_L1TP_221074_20181218_20181227_01_T1_B10.TIF\n",
    "\n",
    "  The returned path ends up looking like:\n",
    "  gs://gcp-public-data-landsat/LC08/01/221/074/LC08_L1TP_221074_20181218_20181227_01_T1/LC08_L1TP_221074_20181218_20181227_01_T1_B10.TIF\n",
    "\n",
    "  Args:\n",
    "    landsat_filename: str, file name of a landsat scene.\n",
    "  Returns:\n",
    "    str, full path to the corresponding landsat scene.\n",
    "  \"\"\"\n",
    "  split_name = landsat_filename.split('_')\n",
    "  path, row = split_name[2][:3], split_name[2][3:]\n",
    "  bands = split_name[0]  # Either LC08 or LT08\n",
    "  parent_dir = '_'.join(split_name[:-1])\n",
    "  return os.path.join(f'gs://gcp-public-data-landsat/{bands}/01/',\n",
    "                      path, row, parent_dir, landsat_filename)"
   ]
  },
  {
   "cell_type": "markdown",
   "metadata": {},
   "source": [
    "gsutil is a Python application that lets you access Cloud Storage from the command line. gsutil performs all operations, including uploads and downloads, using HTTPS and transport-layer security (TLS).\n",
    "\n",
    "This library is what Google leveraged in their own notebooks. Refinement of this process would identify different methods in pulling in the data when not operating in a jupyter notebook"
   ]
  },
  {
   "cell_type": "code",
   "execution_count": null,
   "metadata": {},
   "outputs": [],
   "source": [
    "# Trial cell to check is gsutil is working and there is access allowed in the desired location.\n",
    "# !gsutil cp gs://landsat_contrails_dataset/2021_06_11_1623455786/data/landsat_contrails.json-00051-of-00100 tmp/landsat_contrails.json-00051-of-00100"
   ]
  },
  {
   "cell_type": "markdown",
   "metadata": {},
   "source": [
    "The Google json files total 100. Each team member took a small chunck to import into the system, hence the lack of DRY code. The next code block was run multiple times. Each time is it was run, the json file should be incremented. There are a handful of files that failed to import. Futher work can be exploring why these failed."
   ]
  },
  {
   "cell_type": "code",
   "execution_count": null,
   "metadata": {
    "colab": {
     "base_uri": "https://localhost:8080/"
    },
    "id": "H65gBQMwzxkB",
    "outputId": "c875cfec-43ef-4efe-8584-e5c14f34eaae"
   },
   "outputs": [],
   "source": [
    "\n",
    "#needs to be re run to update json data file: json-00001-00100 - json-00100-00100\n",
    "\n",
    "\n",
    "\n",
    "# !gsutil cp gs://landsat_contrails_dataset/2021_06_11_1623455786/data/landsat_contrails.json-00051-of-00100 /tmp/landsat_contrails.json-00051-of-00100\n",
    "# cd /projects/raggarw/ErrorPlane/\n",
    "\n",
    "f = open('/tmp/landsat_contrails.json-00051-of-00100','r') # opens 1st json file in read mode from GCP\n",
    "\n",
    "tif_dir_path1 = r'data/tif_image_files/images_without_contrails'\n",
    "tif_dir_path2 = r'data/tif_image_files/images_with_contrails'\n",
    "tif_dir_path3 = r'data/tif_image_files/annotated_images_with_contrails'\n",
    "\n",
    "# m.p written cell do not need to run this cell more than 1 time \n",
    "tiff1 = open(tif_dir_path1,'a') # this file is going to hold all the tif image names without contrails\n",
    "tiff2 = open(tif_dir_path2,'a') # this file is going to hold all the tif image names with contrails\n",
    "tiff3 = open(tif_dir_path3,'a')# this files is going to hold all the tif images with contrails and annotated\n",
    "\n",
    "\n",
    "\"\"\"\n",
    "m.p. added code/ cell. This cell uses the json files from the GCP  \n",
    "1.Reads in one line at a time (each line is 1 json object) \n",
    "2.Removes advected flight information\n",
    "3.Test for the presence of polygons, splits files accordingly\n",
    "4.Saves folders to Google drive\n",
    "\"\"\"\n",
    "tifnames_with_contrail_list = []\n",
    "tifnames_without_contrail_list = []\n",
    "\n",
    "# (FOR TEAM USING CODE DO NOT NEED TO RUN THIS CELL)\n",
    "# (THIS CELL IS FOR PROCESSING JSON FILES AND LOADING FILES INTO THEIR RESPECTIVE DIRECTORIES )\n",
    "counter = 0\n",
    "number_of_json_files = 36\n",
    "  \n",
    "indiv_json_file = json.loads(f.readline()) # reads in 1st line as a python object\n",
    "while counter <= number_of_json_files:\n",
    "   # while indiv_json_file != \"\": (this statement does not work so used a counter)\n",
    "   counter = counter +1\n",
    "   indiv_json_file.pop('advected_flight_waypoints') # deletes flight waypoint\n",
    "   indiv_json_file.pop('advected_flight_density') # deletes flight density\n",
    "   #print(indiv_json_file) # verifying deleted objects\n",
    "   #print(type(indiv_json_file))# json should be a dictionary, verifying file types\n",
    "   #print(type(indiv_json_file['polygons']))\n",
    "   image_filename = indiv_json_file['filename'] # retrieve the image filename \n",
    "   landsat_image_name = indiv_json_file['filename'] # retrieve the image filename again for filters\n",
    "   \n",
    "   if len(indiv_json_file['polygons'])== 0: # check for polygon data and separate\n",
    "     tiff1.write(landsat_image_name) # write a file listing of tif file names\n",
    "     tiff1.write(os.linesep)\n",
    "     tifnames_without_contrail_list.append(landsat_image_name)\n",
    "     dir_name = 'data/json_image_files/filenames_without_contrails'\n",
    "     fileType = '.json'\n",
    "     image_filename_list = image_filename.split(\".\")\n",
    "     image_filename = image_filename_list[0]+ fileType\n",
    "     path = os.path.join(dir_name, image_filename)\n",
    "     #print(path) verifying path \n",
    "     cf = open(path,'w')\n",
    "     indiv_json_file = json.dumps(indiv_json_file, indent=2) # m.p. added cell this re-creates json file of the parsed files (file name & polygons only)\n",
    "     cf.write(indiv_json_file)\n",
    "   else:\n",
    "     tiff2.write(landsat_image_name) # write a file listing of tif file names\n",
    "     tiff2.write(os.linesep)\n",
    "     tifnames_with_contrail_list.append(landsat_image_name)\n",
    "     dir_name = 'data/json_image_files/filenames_with_contrails'\n",
    "     fileType = '.json'\n",
    "     image_filename_list = image_filename.split(\".\")\n",
    "     image_filename = image_filename_list[0]+ fileType\n",
    "     path = os.path.join(dir_name, image_filename)\n",
    "     #print(path) verifying path\n",
    "     ncf = open(path, 'w') # open a file to hold filenames that have contrails\n",
    "     indiv_json_file = json.dumps(indiv_json_file, indent= 2)\n",
    "     ncf.write(indiv_json_file)\n",
    "      \n",
    "   #print(image_filename) # verify file names\n",
    "   indiv_json_file = json.loads(f.readline())\n",
    "\n",
    "f.close()\n",
    "\n",
    "cf.close()\n",
    "ncf.close()\n",
    "tiff1.close()\n",
    "tiff2.close()\n",
    "tiff3.close()\n",
    "\n",
    "\n",
    "\n",
    "# at this point should have all of the tiff filenames in lists and the json files in sep directories"
   ]
  },
  {
   "cell_type": "markdown",
   "metadata": {},
   "source": [
    "Run the next two cells to verify number of files in the share repository so far. There is no true total count that our team is aware of."
   ]
  },
  {
   "cell_type": "code",
   "execution_count": null,
   "metadata": {
    "id": "y76ObL-kKkAn"
   },
   "outputs": [],
   "source": [
    "current_picture_list = [] # creating list to hold TIFF file names\n",
    "list_of_polygons = [] # creating list to hold polygon data\n",
    "file_count = 0 \n",
    "\n",
    "# this code walks through the directory and opens each file\n",
    "directory1 = '/projects/raggarw/ErrorPlane/json_image_files/filenames_with_contrails'\n",
    "for filename in os.listdir(directory1):\n",
    "  f= open(os.path.join(directory1,filename))\n",
    "  indiv_json_file = json.loads(f.read()) # reads file in as a python object\n",
    "  current_picture = indiv_json_file['filename'] # extract TIF file name\n",
    "  current_picture_list.append(current_picture) # adds file name to list\n",
    "  list_of_polygons.append(indiv_json_file['polygons']) # extract and append polygon data\n",
    "  file_count = file_count + 1\n",
    "\n",
    "\n"
   ]
  },
  {
   "cell_type": "code",
   "execution_count": null,
   "metadata": {
    "colab": {
     "base_uri": "https://localhost:8080/"
    },
    "id": "OiPAby5HUjG2",
    "outputId": "a824faa8-4b68-43e5-a467-8c256663f415"
   },
   "outputs": [],
   "source": [
    "print(file_count)\n",
    "print(current_picture_list[0])\n",
    "print(list_of_polygons[0])\n",
    "# THIS CELL IS FOR VERIFICATION FILE DIRECTORY IS READ"
   ]
  },
  {
   "cell_type": "markdown",
   "metadata": {},
   "source": [
    "### Downloading and converting .tif to .jpeg\n",
    "\n",
    "The files we imported are just json files, next we need to identify the correct scenes from the Google labled contrail dataset. Once we have the right scene, download the correct .tif file and then convert it to .jpeg. "
   ]
  },
  {
   "cell_type": "code",
   "execution_count": null,
   "metadata": {},
   "outputs": [],
   "source": [
    "file_contrailYES = open(\"data/json_image_files/images_with_contrails\", \"r\")\n",
    "file_contrailNO = open(\"data/json_image_files/images_without_contrails\", \"r\")\n",
    "\n",
    "# reading the file\n",
    "dataYES = file_contrailYES.read()\n",
    "contrail_yes = dataYES.split()\n",
    "file_contrailYES.close()\n",
    "# printing the data\n",
    "\n",
    "dataNO = file_contrailNO.read()\n",
    "contrail_no = dataNO.split()\n",
    "file_contrailNO.close()"
   ]
  },
  {
   "cell_type": "code",
   "execution_count": null,
   "metadata": {},
   "outputs": [],
   "source": [
    "print(\"These are images that have a contrail\")\n",
    "contrail_yes[:5]"
   ]
  },
  {
   "cell_type": "code",
   "execution_count": null,
   "metadata": {},
   "outputs": [],
   "source": [
    "print(\"These are images do not have a contrail\")\n",
    "contrail_no[:5]"
   ]
  },
  {
   "cell_type": "markdown",
   "metadata": {},
   "source": [
    "Now that we have a list of YES_contrails and NO_contrails, lets checki the functionality of the Google provided function."
   ]
  },
  {
   "cell_type": "code",
   "execution_count": null,
   "metadata": {},
   "outputs": [],
   "source": [
    "path_from_filename(\"LC08_L1TP_019036_20181125_20181210_01_T1_B10.TIF\")"
   ]
  },
  {
   "cell_type": "markdown",
   "metadata": {},
   "source": [
    "Awesome, it provides the url to the img. Now lets download all of them"
   ]
  },
  {
   "cell_type": "code",
   "execution_count": null,
   "metadata": {},
   "outputs": [],
   "source": [
    "# Downloading the .TIF files\n",
    "\n",
    "#NO CONTRAILS\n",
    "for name in contrail_no:\n",
    "    !gsutil cp {path_from_filename(name)} data/tif_image_files/without_contrails/"
   ]
  },
  {
   "cell_type": "code",
   "execution_count": null,
   "metadata": {
    "scrolled": true
   },
   "outputs": [],
   "source": [
    "#YES CONTRAILS\n",
    "for name in contrail_yes:\n",
    "    !gsutil cp {path_from_filename(name)} data/tif_image_files/with_contrails/"
   ]
  },
  {
   "cell_type": "markdown",
   "metadata": {},
   "source": [
    "Lastly we have to convert the .tif file into a .jpeg. We'll leverage the libraries PIL and glob in our efforts to do this. Lets first check we can remove the file tag at the end of the name."
   ]
  },
  {
   "cell_type": "code",
   "execution_count": null,
   "metadata": {},
   "outputs": [],
   "source": [
    "\"data/tif_image_files/with_contrails/LC08_L1TP_006026_20180826_20180830_01_T1_B10.TIF\"[:-4]"
   ]
  },
  {
   "cell_type": "markdown",
   "metadata": {},
   "source": [
    "The orginal code was written on a Windows machine and they see forward slashes in path names a bit differently. We needed to replace all \"\\\\\" with \"/\". We need to gather all the paths to YES_contrails and NO_contrails."
   ]
  },
  {
   "cell_type": "code",
   "execution_count": null,
   "metadata": {},
   "outputs": [],
   "source": [
    "YES_path = glob.glob('data/tif_image_files/with_contrails/*.*')\n",
    "YES_path = [i.replace(\"\\\\\",\"/\") for i in YES_path]"
   ]
  },
  {
   "cell_type": "code",
   "execution_count": null,
   "metadata": {},
   "outputs": [],
   "source": [
    "NO_path = glob.glob('data/tif_image_files/without_contrails/*.*')\n",
    "NO_path = [i.replace(\"\\\\\",\"/\") for i in NO_path]"
   ]
  },
  {
   "cell_type": "markdown",
   "metadata": {},
   "source": [
    "Now we need to convert the .TIF files into .jpeg. We'll use PIL for that. Snippet borrowed from this Stackoverflow.  \n",
    "\n",
    "https://stackoverflow.com/questions/43978819/convert-tiff-i16-to-jpg-with-pil-pillow"
   ]
  },
  {
   "cell_type": "code",
   "execution_count": null,
   "metadata": {},
   "outputs": [],
   "source": [
    "for file in YES_path:\n",
    "    image = Image.open(file)\n",
    "    image.mode = 'I'\n",
    "    image.point(lambda i:i*(1./256)).convert('L').save(file[:-4] + '.jpeg')\n",
    "#     print(file)"
   ]
  },
  {
   "cell_type": "code",
   "execution_count": null,
   "metadata": {},
   "outputs": [],
   "source": [
    "for file in NO_path:\n",
    "    image = Image.open(file)\n",
    "    image.mode = 'I'\n",
    "    image.point(lambda i:i*(1./256)).convert('L').save(file[:-4] + '.jpeg')\n",
    "#     print(file)"
   ]
  },
  {
   "cell_type": "markdown",
   "metadata": {},
   "source": [
    "And now our preprocessing is done. We have converted to .jpegs and divided our binary classification groups into their respective folders."
   ]
  },
  {
   "cell_type": "code",
   "execution_count": null,
   "metadata": {},
   "outputs": [],
   "source": []
  }
 ],
 "metadata": {
  "colab": {
   "collapsed_sections": [],
   "name": "Copy of Landsat_Contrails_Dataset(1).ipynb",
   "provenance": []
  },
  "kernelspec": {
   "display_name": "Python 3",
   "language": "python",
   "name": "python3"
  },
  "language_info": {
   "codemirror_mode": {
    "name": "ipython",
    "version": 3
   },
   "file_extension": ".py",
   "mimetype": "text/x-python",
   "name": "python",
   "nbconvert_exporter": "python",
   "pygments_lexer": "ipython3",
   "version": "3.7.8"
  }
 },
 "nbformat": 4,
 "nbformat_minor": 4
}
