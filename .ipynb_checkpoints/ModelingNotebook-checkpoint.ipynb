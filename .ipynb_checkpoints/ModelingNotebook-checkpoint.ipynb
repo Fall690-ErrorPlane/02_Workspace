{
 "cells": [
  {
   "cell_type": "code",
   "execution_count": 1,
   "id": "52997303",
   "metadata": {},
   "outputs": [],
   "source": [
    "from tensorflow import keras"
   ]
  },
  {
   "cell_type": "code",
   "execution_count": 2,
   "id": "d76c6b5f",
   "metadata": {},
   "outputs": [],
   "source": [
    "from sklearn.model_selection import train_test_split"
   ]
  },
  {
   "cell_type": "code",
   "execution_count": null,
   "id": "d7336384",
   "metadata": {},
   "outputs": [],
   "source": [
    "import os\n",
    "from pyrsgis import raster"
   ]
  },
  {
   "cell_type": "code",
   "execution_count": 13,
   "id": "247e3f32",
   "metadata": {},
   "outputs": [],
   "source": [
    "import glob\n",
    "from PIL import Image"
   ]
  },
  {
   "cell_type": "markdown",
   "id": "21570953",
   "metadata": {},
   "source": [
    "### The Data\n",
    "\n",
    "We have some .TIFF files in two buckets: images_**with**\\_contrails, images\\_**without**_contrails. We need to use that naming scheme to download the . \\n\n",
    "\n",
    "They have been split by the import notebook and these list are generated from those. We w\n"
   ]
  },
  {
   "cell_type": "code",
   "execution_count": 4,
   "id": "906c6433",
   "metadata": {},
   "outputs": [],
   "source": [
    "file_contrailYES = open(\"data/tif_image_files/images_with_contrails\", \"r\")\n",
    "file_contrailNO = open(\"data/tif_image_files/images_without_contrails\", \"r\")\n",
    "\n",
    "# reading the file\n",
    "dataYES = file_contrailYES.read()\n",
    "contrail_yes = dataYES.split()\n",
    "file_contrailYES.close()\n",
    "# printing the data\n",
    "\n",
    "dataNO = file_contrailNO.read()\n",
    "contrail_no = dataNO.split()\n",
    "file_contrailNO.close()"
   ]
  },
  {
   "cell_type": "code",
   "execution_count": 5,
   "id": "700537aa",
   "metadata": {},
   "outputs": [
    {
     "name": "stdout",
     "output_type": "stream",
     "text": [
      "These are images that have a contrail\n"
     ]
    },
    {
     "data": {
      "text/plain": [
       "['LC08_L1TP_018028_20180526_20180605_01_T1_B10.TIF',\n",
       " 'LC08_L1TP_018028_20180526_20180605_01_T1_B10.TIF',\n",
       " 'LC08_L1TP_036019_20180727_20180731_01_T1_B10.TIF',\n",
       " 'LC08_L1TP_019036_20181125_20181210_01_T1_B10.TIF',\n",
       " 'LC08_L1TP_023033_20180716_20180730_01_T1_B10.TIF']"
      ]
     },
     "execution_count": 5,
     "metadata": {},
     "output_type": "execute_result"
    }
   ],
   "source": [
    "print(\"These are images that have a contrail\")\n",
    "contrail_yes[:5]"
   ]
  },
  {
   "cell_type": "code",
   "execution_count": 6,
   "id": "4cf01f7e",
   "metadata": {},
   "outputs": [
    {
     "name": "stdout",
     "output_type": "stream",
     "text": [
      "These are images do not have a contrail\n"
     ]
    },
    {
     "data": {
      "text/plain": [
       "['LC08_L1TP_233017_20180613_20180703_01_T1_B10.TIF',\n",
       " 'LC08_L1TP_233017_20180613_20180703_01_T1_B10.TIF',\n",
       " 'LC08_L1TP_217063_20180221_20180308_01_T1_B10.TIF',\n",
       " 'LC08_L1TP_032009_20180613_20180703_01_T1_B10.TIF',\n",
       " 'LC08_L1TP_032001_20180512_20180517_01_T1_B10.TIF']"
      ]
     },
     "execution_count": 6,
     "metadata": {},
     "output_type": "execute_result"
    }
   ],
   "source": [
    "print(\"These are images do not have a contrail\")\n",
    "contrail_no[:5]"
   ]
  },
  {
   "cell_type": "markdown",
   "id": "fa1f5a2e",
   "metadata": {},
   "source": [
    "We now need to use gsutil to download these specific files. Using a helper function from Google we can do it from these names we have."
   ]
  },
  {
   "cell_type": "code",
   "execution_count": 7,
   "id": "ca210133",
   "metadata": {
    "id": "lvU7M6K_962u"
   },
   "outputs": [],
   "source": [
    "# starting the file definitions this is the 1st cell (100% Google written cell)\n",
    "def path_from_filename(landsat_filename):\n",
    "  \"\"\"Returns the full GCP filepath for the provided `landsat_filename`.\n",
    "\n",
    "  An example filename looks like:\n",
    "  LC08_L1TP_221074_20181218_20181227_01_T1_B10.TIF\n",
    "\n",
    "  The returned path ends up looking like:\n",
    "  gs://gcp-public-data-landsat/LC08/01/221/074/LC08_L1TP_221074_20181218_20181227_01_T1/LC08_L1TP_221074_20181218_20181227_01_T1_B10.TIF\n",
    "\n",
    "  Args:\n",
    "    landsat_filename: str, file name of a landsat scene.\n",
    "  Returns:\n",
    "    str, full path to the corresponding landsat scene.\n",
    "  \"\"\"\n",
    "  split_name = landsat_filename.split('_')\n",
    "  path, row = split_name[2][:3], split_name[2][3:]\n",
    "  bands = split_name[0]  # Either LC08 or LT08\n",
    "  parent_dir = '_'.join(split_name[:-1])\n",
    "  return os.path.join(f'gs://gcp-public-data-landsat/{bands}/01/',\n",
    "                      path, row, parent_dir, landsat_filename).replace(\"\\\\\",\"/\")"
   ]
  },
  {
   "cell_type": "code",
   "execution_count": 8,
   "id": "f66e0a58",
   "metadata": {},
   "outputs": [
    {
     "data": {
      "text/plain": [
       "'gs://gcp-public-data-landsat/LC08/01/019/036/LC08_L1TP_019036_20181125_20181210_01_T1/LC08_L1TP_019036_20181125_20181210_01_T1_B10.TIF'"
      ]
     },
     "execution_count": 8,
     "metadata": {},
     "output_type": "execute_result"
    }
   ],
   "source": [
    "path_from_filename(\"LC08_L1TP_019036_20181125_20181210_01_T1_B10.TIF\")"
   ]
  },
  {
   "cell_type": "code",
   "execution_count": 16,
   "id": "8d033773",
   "metadata": {
    "collapsed": true,
    "jupyter": {
     "outputs_hidden": true
    }
   },
   "outputs": [
    {
     "name": "stderr",
     "output_type": "stream",
     "text": [
      "Copying gs://gcp-public-data-landsat/LC08/01/233/017/LC08_L1TP_233017_20180613_20180703_01_T1/LC08_L1TP_233017_20180613_20180703_01_T1_B10.TIF...\n",
      "/ [0 files][    0.0 B/ 50.7 MiB]                                                \n",
      "-\n",
      "- [0 files][ 25.0 MiB/ 50.7 MiB]                                                \n",
      "\\\n",
      "\\ [1 files][ 50.7 MiB/ 50.7 MiB]                                                \n",
      "\n",
      "Operation completed over 1 objects/50.7 MiB.                                     \n",
      "Copying gs://gcp-public-data-landsat/LC08/01/233/017/LC08_L1TP_233017_20180613_20180703_01_T1/LC08_L1TP_233017_20180613_20180703_01_T1_B10.TIF...\n",
      "/ [0 files][    0.0 B/ 50.7 MiB]                                                \n",
      "-\n",
      "- [0 files][ 40.0 MiB/ 50.7 MiB]                                                \n",
      "- [1 files][ 50.7 MiB/ 50.7 MiB]                                                \n",
      "\n",
      "Operation completed over 1 objects/50.7 MiB.                                     \n",
      "Copying gs://gcp-public-data-landsat/LC08/01/217/063/LC08_L1TP_217063_20180221_20180308_01_T1/LC08_L1TP_217063_20180221_20180308_01_T1_B10.TIF...\n",
      "/ [0 files][    0.0 B/ 56.8 MiB]                                                \n",
      "-\n",
      "- [0 files][ 23.4 MiB/ 56.8 MiB]                                                \n",
      "\\\n",
      "\\ [1 files][ 56.8 MiB/ 56.8 MiB]                                                \n",
      "\n",
      "Operation completed over 1 objects/56.8 MiB.                                     \n",
      "Copying gs://gcp-public-data-landsat/LC08/01/032/009/LC08_L1TP_032009_20180613_20180703_01_T1/LC08_L1TP_032009_20180613_20180703_01_T1_B10.TIF...\n",
      "/ [0 files][    0.0 B/ 51.5 MiB]                                                \n",
      "-\n",
      "- [0 files][ 50.6 MiB/ 51.5 MiB]                                                \n",
      "- [1 files][ 51.5 MiB/ 51.5 MiB]                                                \n",
      "\n",
      "Operation completed over 1 objects/51.5 MiB.                                     \n",
      "Copying gs://gcp-public-data-landsat/LC08/01/032/001/LC08_L1TP_032001_20180512_20180517_01_T1/LC08_L1TP_032001_20180512_20180517_01_T1_B10.TIF...\n",
      "/ [0 files][    0.0 B/ 37.1 MiB]                                                \n",
      "-\n",
      "- [0 files][ 16.2 MiB/ 37.1 MiB]                                                \n",
      "\\\n",
      "|\n",
      "| [1 files][ 37.1 MiB/ 37.1 MiB]                                                \n",
      "\n",
      "Operation completed over 1 objects/37.1 MiB.                                     \n",
      "Copying gs://gcp-public-data-landsat/LC08/01/010/059/LC08_L1TP_010059_20180110_20180119_01_T1/LC08_L1TP_010059_20180110_20180119_01_T1_B10.TIF...\n",
      "/ [0 files][    0.0 B/ 58.5 MiB]                                                \n",
      "-\n",
      "- [0 files][ 16.9 MiB/ 58.5 MiB]                                                \n",
      "\\\n",
      "|\n",
      "| [0 files][ 50.6 MiB/ 58.5 MiB]                                                \n",
      "| [1 files][ 58.5 MiB/ 58.5 MiB]                                                \n",
      "\n",
      "Operation completed over 1 objects/58.5 MiB.                                     \n",
      "Copying gs://gcp-public-data-landsat/LC08/01/032/030/LC08_L1TP_032030_20181222_20181227_01_T1/LC08_L1TP_032030_20181222_20181227_01_T1_B10.TIF...\n",
      "/ [0 files][    0.0 B/ 48.2 MiB]                                                \n",
      "-\n",
      "- [0 files][ 25.0 MiB/ 48.2 MiB]                                                \n",
      "\\\n",
      "\\ [1 files][ 48.2 MiB/ 48.2 MiB]                                                \n",
      "\n",
      "Operation completed over 1 objects/48.2 MiB.                                     \n",
      "Copying gs://gcp-public-data-landsat/LC08/01/190/043/LC08_L1TP_190043_20180515_20180604_01_T1/LC08_L1TP_190043_20180515_20180604_01_T1_B10.TIF...\n",
      "/ [0 files][    0.0 B/ 60.2 MiB]                                                \n",
      "-\n",
      "- [0 files][ 25.9 MiB/ 60.2 MiB]                                                \n",
      "\\\n",
      "\\ [1 files][ 60.2 MiB/ 60.2 MiB]                                                \n",
      "\n",
      "Operation completed over 1 objects/60.2 MiB.                                     \n",
      "Copying gs://gcp-public-data-landsat/LC08/01/225/077/LC08_L1TP_225077_20181027_20181115_01_T1/LC08_L1TP_225077_20181027_20181115_01_T1_B10.TIF...\n",
      "/ [0 files][    0.0 B/ 57.6 MiB]                                                \n",
      "-\n",
      "- [0 files][ 25.3 MiB/ 57.6 MiB]                                                \n",
      "\\\n",
      "|\n",
      "| [1 files][ 57.6 MiB/ 57.6 MiB]                                                \n",
      "\n",
      "Operation completed over 1 objects/57.6 MiB.                                     \n",
      "Copying gs://gcp-public-data-landsat/LC08/01/042/007/LC08_L1TP_042007_20180331_20180405_01_T1/LC08_L1TP_042007_20180331_20180405_01_T1_B10.TIF...\n",
      "/ [0 files][    0.0 B/ 43.3 MiB]                                                \n",
      "-\n",
      "- [0 files][ 32.2 MiB/ 43.3 MiB]                                                \n",
      "- [1 files][ 43.3 MiB/ 43.3 MiB]                                                \n",
      "\n",
      "Operation completed over 1 objects/43.3 MiB.                                     \n",
      "Copying gs://gcp-public-data-landsat/LC08/01/039/021/LC08_L1TP_039021_20180614_20180703_01_T1/LC08_L1TP_039021_20180614_20180703_01_T1_B10.TIF...\n",
      "/ [0 files][    0.0 B/ 60.7 MiB]                                                \n",
      "-\n",
      "- [0 files][ 30.6 MiB/ 60.7 MiB]                                                \n",
      "\\\n",
      "\\ [1 files][ 60.7 MiB/ 60.7 MiB]                                                \n",
      "\n",
      "Operation completed over 1 objects/60.7 MiB.                                     \n",
      "Copying gs://gcp-public-data-landsat/LC08/01/005/005/LC08_L1TP_005005_20180328_20180405_01_T1/LC08_L1TP_005005_20180328_20180405_01_T1_B10.TIF...\n",
      "/ [0 files][    0.0 B/ 39.5 MiB]                                                \n",
      "-\n",
      "- [0 files][ 24.1 MiB/ 39.5 MiB]                                                \n",
      "\\\n",
      "\\ [1 files][ 39.5 MiB/ 39.5 MiB]                                                \n",
      "\n",
      "Operation completed over 1 objects/39.5 MiB.                                     \n",
      "Copying gs://gcp-public-data-landsat/LC08/01/232/055/LC08_L1TP_232055_20181012_20181030_01_T1/LC08_L1TP_232055_20181012_20181030_01_T1_B10.TIF...\n",
      "/ [0 files][    0.0 B/ 57.2 MiB]                                                \n",
      "-\n",
      "- [0 files][ 24.1 MiB/ 57.2 MiB]                                                \n",
      "\\\n",
      "|\n",
      "| [1 files][ 57.2 MiB/ 57.2 MiB]                                                \n",
      "\n",
      "Operation completed over 1 objects/57.2 MiB.                                     \n",
      "Copying gs://gcp-public-data-landsat/LC08/01/233/056/LC08_L1TP_233056_20180731_20180814_01_T1/LC08_L1TP_233056_20180731_20180814_01_T1_B10.TIF...\n",
      "/ [0 files][    0.0 B/ 56.4 MiB]                                                \n",
      "-\n",
      "- [0 files][ 27.2 MiB/ 56.4 MiB]                                                \n",
      "\\\n",
      "\\ [1 files][ 56.4 MiB/ 56.4 MiB]                                                \n",
      "\n",
      "Operation completed over 1 objects/56.4 MiB.                                     \n",
      "Copying gs://gcp-public-data-landsat/LC08/01/076/017/LC08_L1TP_076017_20181108_20181116_01_T1/LC08_L1TP_076017_20181108_20181116_01_T1_B10.TIF...\n",
      "/ [0 files][    0.0 B/ 49.2 MiB]                                                \n",
      "-\n",
      "- [0 files][ 25.0 MiB/ 49.2 MiB]                                                \n",
      "\\\n",
      "\\ [1 files][ 49.2 MiB/ 49.2 MiB]                                                \n",
      "\n",
      "Operation completed over 1 objects/49.2 MiB.                                     \n",
      "Copying gs://gcp-public-data-landsat/LC08/01/053/010/LC08_L1TP_053010_20180718_20180731_01_T1/LC08_L1TP_053010_20180718_20180731_01_T1_B10.TIF...\n",
      "/ [0 files][    0.0 B/ 50.8 MiB]                                                \n",
      "-\n",
      "- [0 files][ 19.1 MiB/ 50.8 MiB]                                                \n",
      "\\\n",
      "\\ [1 files][ 50.8 MiB/ 50.8 MiB]                                                \n",
      "\n",
      "Operation completed over 1 objects/50.8 MiB.                                     \n",
      "Copying gs://gcp-public-data-landsat/LC08/01/012/045/LC08_L1TP_012045_20181023_20181101_01_T1/LC08_L1TP_012045_20181023_20181101_01_T1_B10.TIF...\n",
      "/ [0 files][    0.0 B/ 50.6 MiB]                                                \n",
      "-\n",
      "- [0 files][ 24.1 MiB/ 50.6 MiB]                                                \n",
      "\\\n",
      "\\ [1 files][ 50.6 MiB/ 50.6 MiB]                                                \n",
      "\n",
      "Operation completed over 1 objects/50.6 MiB.                                     \n",
      "Copying gs://gcp-public-data-landsat/LC08/01/033/012/LC08_L1TP_033012_20180503_20180516_01_T1/LC08_L1TP_033012_20180503_20180516_01_T1_B10.TIF...\n",
      "/ [0 files][    0.0 B/ 43.0 MiB]                                                \n",
      "-\n",
      "- [0 files][ 16.2 MiB/ 43.0 MiB]                                                \n",
      "\\\n",
      "\\ [1 files][ 43.0 MiB/ 43.0 MiB]                                                \n",
      "\n",
      "Operation completed over 1 objects/43.0 MiB.                                     \n",
      "Copying gs://gcp-public-data-landsat/LC08/01/035/036/LC08_L1TP_035036_20180314_20180320_01_T1/LC08_L1TP_035036_20180314_20180320_01_T1_B10.TIF...\n",
      "/ [0 files][    0.0 B/ 57.6 MiB]                                                \n",
      "-\n",
      "- [0 files][ 37.2 MiB/ 57.6 MiB]                                                \n",
      "\\\n",
      "\\ [1 files][ 57.6 MiB/ 57.6 MiB]                                                \n",
      "\n",
      "Operation completed over 1 objects/57.6 MiB.                                     \n",
      "Copying gs://gcp-public-data-landsat/LC08/01/224/069/LC08_L1TP_224069_20181004_20181010_01_T1/LC08_L1TP_224069_20181004_20181010_01_T1_B10.TIF...\n",
      "/ [0 files][    0.0 B/ 55.7 MiB]                                                \n",
      "-\n",
      "- [0 files][ 21.6 MiB/ 55.7 MiB]                                                \n",
      "\\\n",
      "|\n",
      "| [1 files][ 55.7 MiB/ 55.7 MiB]                                                \n",
      "\n",
      "Operation completed over 1 objects/55.7 MiB.                                     \n",
      "Copying gs://gcp-public-data-landsat/LC08/01/013/029/LC08_L1TP_013029_20180928_20181009_01_T1/LC08_L1TP_013029_20180928_20181009_01_T1_B10.TIF...\n",
      "/ [0 files][    0.0 B/ 55.2 MiB]                                                \n",
      "-\n",
      "- [1 files][ 55.2 MiB/ 55.2 MiB]                                                \n",
      "\n",
      "Operation completed over 1 objects/55.2 MiB.                                     \n",
      "Copying gs://gcp-public-data-landsat/LC08/01/042/037/LC08_L1TP_042037_20181126_20181210_01_T1/LC08_L1TP_042037_20181126_20181210_01_T1_B10.TIF...\n",
      "/ [0 files][    0.0 B/ 39.2 MiB]                                                \n",
      "-\n",
      "- [1 files][ 39.2 MiB/ 39.2 MiB]                                                \n",
      "\n",
      "Operation completed over 1 objects/39.2 MiB.                                     \n"
     ]
    }
   ],
   "source": [
    "# Downloading the .TIF files\n",
    "\n",
    "#NO CONTRAILS\n",
    "for name in contrail_no:\n",
    "    !gsutil cp {path_from_filename(name)} data/tif_image_files/without_contrails/"
   ]
  },
  {
   "cell_type": "code",
   "execution_count": 17,
   "id": "93c11879",
   "metadata": {
    "scrolled": true
   },
   "outputs": [
    {
     "name": "stderr",
     "output_type": "stream",
     "text": [
      "Copying gs://gcp-public-data-landsat/LC08/01/018/028/LC08_L1TP_018028_20180526_20180605_01_T1/LC08_L1TP_018028_20180526_20180605_01_T1_B10.TIF...\n",
      "/ [0 files][    0.0 B/ 48.8 MiB]                                                \n",
      "-\n",
      "- [0 files][ 43.1 MiB/ 48.8 MiB]                                                \n",
      "- [1 files][ 48.8 MiB/ 48.8 MiB]                                                \n",
      "\n",
      "Operation completed over 1 objects/48.8 MiB.                                     \n",
      "Copying gs://gcp-public-data-landsat/LC08/01/018/028/LC08_L1TP_018028_20180526_20180605_01_T1/LC08_L1TP_018028_20180526_20180605_01_T1_B10.TIF...\n",
      "/ [0 files][    0.0 B/ 48.8 MiB]                                                \n",
      "-\n",
      "- [0 files][ 46.2 MiB/ 48.8 MiB]                                                \n",
      "- [1 files][ 48.8 MiB/ 48.8 MiB]                                                \n",
      "\n",
      "Operation completed over 1 objects/48.8 MiB.                                     \n",
      "Copying gs://gcp-public-data-landsat/LC08/01/036/019/LC08_L1TP_036019_20180727_20180731_01_T1/LC08_L1TP_036019_20180727_20180731_01_T1_B10.TIF...\n",
      "/ [0 files][    0.0 B/ 65.0 MiB]                                                \n",
      "-\n",
      "- [0 files][ 45.6 MiB/ 65.0 MiB]                                                \n",
      "\\\n",
      "\\ [1 files][ 65.0 MiB/ 65.0 MiB]                                                \n",
      "\n",
      "Operation completed over 1 objects/65.0 MiB.                                     \n",
      "Copying gs://gcp-public-data-landsat/LC08/01/019/036/LC08_L1TP_019036_20181125_20181210_01_T1/LC08_L1TP_019036_20181125_20181210_01_T1_B10.TIF...\n",
      "/ [0 files][    0.0 B/ 50.2 MiB]                                                \n",
      "-\n",
      "- [1 files][ 50.2 MiB/ 50.2 MiB]                                                \n",
      "\n",
      "Operation completed over 1 objects/50.2 MiB.                                     \n",
      "Copying gs://gcp-public-data-landsat/LC08/01/023/033/LC08_L1TP_023033_20180716_20180730_01_T1/LC08_L1TP_023033_20180716_20180730_01_T1_B10.TIF...\n",
      "/ [0 files][    0.0 B/ 59.2 MiB]                                                \n",
      "-\n",
      "- [0 files][ 50.9 MiB/ 59.2 MiB]                                                \n",
      "- [1 files][ 59.2 MiB/ 59.2 MiB]                                                \n",
      "\n",
      "Operation completed over 1 objects/59.2 MiB.                                     \n",
      "Copying gs://gcp-public-data-landsat/LC08/01/048/027/LC08_L1TP_048027_20181206_20181211_01_T1/LC08_L1TP_048027_20181206_20181211_01_T1_B10.TIF...\n",
      "/ [0 files][    0.0 B/ 45.8 MiB]                                                \n",
      "-\n",
      "- [1 files][ 45.8 MiB/ 45.8 MiB]                                                \n",
      "\n",
      "Operation completed over 1 objects/45.8 MiB.                                     \n",
      "Copying gs://gcp-public-data-landsat/LC08/01/204/051/LC08_L1TP_204051_20181109_20181127_01_T1/LC08_L1TP_204051_20181109_20181127_01_T1_B10.TIF...\n",
      "/ [0 files][    0.0 B/ 58.9 MiB]                                                \n",
      "-\n",
      "- [0 files][ 45.3 MiB/ 58.9 MiB]                                                \n",
      "- [1 files][ 58.9 MiB/ 58.9 MiB]                                                \n",
      "\n",
      "Operation completed over 1 objects/58.9 MiB.                                     \n",
      "Copying gs://gcp-public-data-landsat/LC08/01/006/026/LC08_L1TP_006026_20180826_20180830_01_T1/LC08_L1TP_006026_20180826_20180830_01_T1_B10.TIF...\n",
      "/ [0 files][    0.0 B/ 47.2 MiB]                                                \n",
      "-\n",
      "- [1 files][ 47.2 MiB/ 47.2 MiB]                                                \n",
      "\n",
      "Operation completed over 1 objects/47.2 MiB.                                     \n",
      "Copying gs://gcp-public-data-landsat/LC08/01/035/021/LC08_L1TP_035021_20180618_20180703_01_T1/LC08_L1TP_035021_20180618_20180703_01_T1_B10.TIF...\n",
      "/ [0 files][    0.0 B/ 59.0 MiB]                                                \n",
      "-\n",
      "- [0 files][ 52.8 MiB/ 59.0 MiB]                                                \n",
      "- [1 files][ 59.0 MiB/ 59.0 MiB]                                                \n",
      "\n",
      "Operation completed over 1 objects/59.0 MiB.                                     \n",
      "Copying gs://gcp-public-data-landsat/LC08/01/007/023/LC08_L1TP_007023_20180630_20180716_01_T1/LC08_L1TP_007023_20180630_20180716_01_T1_B10.TIF...\n",
      "/ [0 files][    0.0 B/ 58.6 MiB]                                                \n",
      "-\n",
      "- [0 files][ 48.4 MiB/ 58.6 MiB]                                                \n",
      "- [1 files][ 58.6 MiB/ 58.6 MiB]                                                \n",
      "\n",
      "Operation completed over 1 objects/58.6 MiB.                                     \n",
      "Copying gs://gcp-public-data-landsat/LC08/01/057/013/LC08_L1TP_057013_20180730_20180814_01_T1/LC08_L1TP_057013_20180730_20180814_01_T1_B10.TIF...\n",
      "/ [0 files][    0.0 B/ 55.0 MiB]                                                \n",
      "-\n",
      "- [0 files][ 34.4 MiB/ 55.0 MiB]                                                \n",
      "\\\n",
      "\\ [1 files][ 55.0 MiB/ 55.0 MiB]                                                \n",
      "\n",
      "Operation completed over 1 objects/55.0 MiB.                                     \n",
      "Copying gs://gcp-public-data-landsat/LC08/01/061/019/LC08_L1TP_061019_20180405_20180417_01_T1/LC08_L1TP_061019_20180405_20180417_01_T1_B10.TIF...\n",
      "/ [0 files][    0.0 B/ 40.6 MiB]                                                \n",
      "-\n",
      "- [0 files][ 24.1 MiB/ 40.6 MiB]                                                \n",
      "\\\n",
      "\\ [1 files][ 40.6 MiB/ 40.6 MiB]                                                \n",
      "\n",
      "Operation completed over 1 objects/40.6 MiB.                                     \n",
      "Copying gs://gcp-public-data-landsat/LC08/01/031/036/LC08_L1TP_031036_20181129_20181211_01_T1/LC08_L1TP_031036_20181129_20181211_01_T1_B10.TIF...\n",
      "/ [0 files][    0.0 B/ 52.6 MiB]                                                \n",
      "-\n",
      "- [0 files][ 47.5 MiB/ 52.6 MiB]                                                \n",
      "- [1 files][ 52.6 MiB/ 52.6 MiB]                                                \n",
      "\n",
      "Operation completed over 1 objects/52.6 MiB.                                     \n",
      "Copying gs://gcp-public-data-landsat/LC08/01/013/045/LC08_L1TP_013045_20180131_20180207_01_T1/LC08_L1TP_013045_20180131_20180207_01_T1_B10.TIF...\n",
      "/ [0 files][    0.0 B/ 53.7 MiB]                                                \n",
      "-\n",
      "- [0 files][ 41.2 MiB/ 53.7 MiB]                                                \n",
      "- [1 files][ 53.7 MiB/ 53.7 MiB]                                                \n",
      "\n",
      "Operation completed over 1 objects/53.7 MiB.                                     \n",
      "Copying gs://gcp-public-data-landsat/LC08/01/027/040/LC08_L1TP_027040_20180813_20180828_01_T1/LC08_L1TP_027040_20180813_20180828_01_T1_B10.TIF...\n",
      "/ [0 files][    0.0 B/ 61.9 MiB]                                                \n",
      "-\n",
      "- [0 files][ 16.2 MiB/ 61.9 MiB]                                                \n",
      "\\\n",
      "|\n",
      "| [0 files][ 49.1 MiB/ 61.9 MiB]                                                \n",
      "| [1 files][ 61.9 MiB/ 61.9 MiB]                                                \n",
      "\n",
      "Operation completed over 1 objects/61.9 MiB.                                     \n",
      "Copying gs://gcp-public-data-landsat/LC08/01/031/042/LC08_L1TP_031042_20180825_20180829_01_T1/LC08_L1TP_031042_20180825_20180829_01_T1_B10.TIF...\n",
      "/ [0 files][    0.0 B/ 60.5 MiB]                                                \n",
      "-\n",
      "- [0 files][ 36.6 MiB/ 60.5 MiB]                                                \n",
      "\\\n",
      "\\ [1 files][ 60.5 MiB/ 60.5 MiB]                                                \n",
      "\n",
      "Operation completed over 1 objects/60.5 MiB.                                     \n",
      "Copying gs://gcp-public-data-landsat/LC08/01/026/012/LC08_L1TP_026012_20180822_20180829_01_T1/LC08_L1TP_026012_20180822_20180829_01_T1_B10.TIF...\n",
      "/ [0 files][    0.0 B/ 46.5 MiB]                                                \n",
      "-\n",
      "- [0 files][ 25.9 MiB/ 46.5 MiB]                                                \n",
      "\\\n",
      "\\ [1 files][ 46.5 MiB/ 46.5 MiB]                                                \n",
      "\n",
      "Operation completed over 1 objects/46.5 MiB.                                     \n",
      "Copying gs://gcp-public-data-landsat/LC08/01/069/018/LC08_L1TP_069018_20180920_20180928_01_T1/LC08_L1TP_069018_20180920_20180928_01_T1_B10.TIF...\n",
      "/ [0 files][    0.0 B/ 59.7 MiB]                                                \n",
      "-\n",
      "- [0 files][ 11.2 MiB/ 59.7 MiB]                                                \n",
      "\\\n",
      "|\n",
      "| [0 files][ 48.1 MiB/ 59.7 MiB]                                                \n",
      "| [1 files][ 59.7 MiB/ 59.7 MiB]                                                \n",
      "\n",
      "Operation completed over 1 objects/59.7 MiB.                                     \n"
     ]
    }
   ],
   "source": [
    "#YES CONTRAILS\n",
    "for name in contrail_yes:\n",
    "    !gsutil cp {path_from_filename(name)} data/tif_image_files/with_contrails/"
   ]
  },
  {
   "cell_type": "markdown",
   "id": "3f88a56c",
   "metadata": {},
   "source": [
    "## Preprocessing "
   ]
  },
  {
   "cell_type": "code",
   "execution_count": 15,
   "id": "9ce7d11f",
   "metadata": {},
   "outputs": [],
   "source": [
    "import matplotlib.pyplot as plt\n",
    "import numpy as np\n",
    "import PIL\n",
    "import tensorflow as tf\n",
    "\n",
    "from tensorflow import keras\n",
    "from tensorflow.keras import layers\n",
    "from tensorflow.keras.models import Sequential\n"
   ]
  },
  {
   "cell_type": "code",
   "execution_count": 16,
   "id": "1fb551f4",
   "metadata": {},
   "outputs": [],
   "source": [
    "batch_size = 32\n",
    "img_height = 180\n",
    "img_width = 180\n"
   ]
  },
  {
   "cell_type": "code",
   "execution_count": 17,
   "id": "c01e1729",
   "metadata": {},
   "outputs": [
    {
     "data": {
      "text/plain": [
       "'data/tif_image_files/with_contrails/LC08_L1TP_006026_20180826_20180830_01_T1_B10'"
      ]
     },
     "execution_count": 17,
     "metadata": {},
     "output_type": "execute_result"
    }
   ],
   "source": [
    "\"data/tif_image_files/with_contrails/LC08_L1TP_006026_20180826_20180830_01_T1_B10.TIF\"[:-4]"
   ]
  },
  {
   "cell_type": "code",
   "execution_count": 18,
   "id": "f659af0e",
   "metadata": {},
   "outputs": [],
   "source": [
    "YES_path = glob.glob('data/tif_image_files/with_contrails/*.*')\n",
    "YES_path = [i.replace(\"\\\\\",\"/\") for i in YES_path]"
   ]
  },
  {
   "cell_type": "code",
   "execution_count": 19,
   "id": "d4c564ab",
   "metadata": {},
   "outputs": [],
   "source": [
    "NO_path = glob.glob('data/tif_image_files/without_contrails/*.*')\n",
    "NO_path = [i.replace(\"\\\\\",\"/\") for i in NO_path]"
   ]
  },
  {
   "cell_type": "code",
   "execution_count": 25,
   "id": "a1a6b170",
   "metadata": {},
   "outputs": [],
   "source": [
    "# for file in YES_path:\n",
    "#     image = Image.open(file)\n",
    "#     image.mode = 'I'\n",
    "#     image.point(lambda i:i*(1./256)).convert('L').save(file[:-4] + '.jpeg')\n",
    "# #     print(file)"
   ]
  },
  {
   "cell_type": "code",
   "execution_count": 26,
   "id": "a80dd08f",
   "metadata": {},
   "outputs": [],
   "source": [
    "# for file in NO_path:\n",
    "#     image = Image.open(file)\n",
    "#     image.mode = 'I'\n",
    "#     image.point(lambda i:i*(1./256)).convert('L').save(file[:-4] + '.jpeg')\n",
    "# #     print(file)"
   ]
  },
  {
   "cell_type": "code",
   "execution_count": 23,
   "id": "51a89f8c",
   "metadata": {},
   "outputs": [
    {
     "name": "stdout",
     "output_type": "stream",
     "text": [
      "Found 38 files belonging to 2 classes.\n",
      "Using 31 files for training.\n"
     ]
    }
   ],
   "source": [
    "train_ds = tf.keras.utils.image_dataset_from_directory(\n",
    "  \"data/jpg_image_files\",\n",
    "  validation_split=0.2,\n",
    "  subset=\"training\",\n",
    "  seed=123,\n",
    "  image_size=(img_height, img_width),\n",
    "  batch_size=batch_size)\n"
   ]
  },
  {
   "cell_type": "code",
   "execution_count": 24,
   "id": "8f99e5fc",
   "metadata": {},
   "outputs": [
    {
     "name": "stdout",
     "output_type": "stream",
     "text": [
      "Found 38 files belonging to 2 classes.\n",
      "Using 7 files for validation.\n"
     ]
    }
   ],
   "source": [
    "val_ds = tf.keras.utils.image_dataset_from_directory(\n",
    "  \"data/jpg_image_files\",\n",
    "  validation_split=0.2,\n",
    "  subset=\"validation\",\n",
    "  seed=123,\n",
    "  image_size=(img_height, img_width),\n",
    "  batch_size=batch_size)\n"
   ]
  },
  {
   "cell_type": "code",
   "execution_count": 27,
   "id": "44623ec8",
   "metadata": {},
   "outputs": [
    {
     "name": "stdout",
     "output_type": "stream",
     "text": [
      "['with_contrails', 'without_contrails']\n"
     ]
    }
   ],
   "source": [
    "class_names = train_ds.class_names\n",
    "print(class_names)"
   ]
  },
  {
   "cell_type": "markdown",
   "id": "eb0d33cc",
   "metadata": {},
   "source": [
    "## Model - NN vanilla created"
   ]
  },
  {
   "cell_type": "code",
   "execution_count": 28,
   "id": "a29305a3",
   "metadata": {},
   "outputs": [],
   "source": [
    "num_classes = len(class_names)\n",
    "\n",
    "model = Sequential([\n",
    "  layers.Rescaling(1./255, input_shape=(img_height, img_width, 3)),\n",
    "  layers.Conv2D(16, 3, padding='same', activation='relu'),\n",
    "  layers.MaxPooling2D(),\n",
    "  layers.Conv2D(32, 3, padding='same', activation='relu'),\n",
    "  layers.MaxPooling2D(),\n",
    "  layers.Conv2D(64, 3, padding='same', activation='relu'),\n",
    "  layers.MaxPooling2D(),\n",
    "  layers.Flatten(),\n",
    "  layers.Dense(128, activation='relu'),\n",
    "  layers.Dense(num_classes)\n",
    "])\n",
    "model.compile(optimizer='adam',\n",
    "              loss=tf.keras.losses.SparseCategoricalCrossentropy(from_logits=True),\n",
    "              metrics=['accuracy'])\n"
   ]
  },
  {
   "cell_type": "code",
   "execution_count": 29,
   "id": "71fd2e94",
   "metadata": {},
   "outputs": [
    {
     "name": "stdout",
     "output_type": "stream",
     "text": [
      "Model: \"sequential\"\n",
      "_________________________________________________________________\n",
      " Layer (type)                Output Shape              Param #   \n",
      "=================================================================\n",
      " rescaling (Rescaling)       (None, 180, 180, 3)       0         \n",
      "                                                                 \n",
      " conv2d (Conv2D)             (None, 180, 180, 16)      448       \n",
      "                                                                 \n",
      " max_pooling2d (MaxPooling2D  (None, 90, 90, 16)       0         \n",
      " )                                                               \n",
      "                                                                 \n",
      " conv2d_1 (Conv2D)           (None, 90, 90, 32)        4640      \n",
      "                                                                 \n",
      " max_pooling2d_1 (MaxPooling  (None, 45, 45, 32)       0         \n",
      " 2D)                                                             \n",
      "                                                                 \n",
      " conv2d_2 (Conv2D)           (None, 45, 45, 64)        18496     \n",
      "                                                                 \n",
      " max_pooling2d_2 (MaxPooling  (None, 22, 22, 64)       0         \n",
      " 2D)                                                             \n",
      "                                                                 \n",
      " flatten (Flatten)           (None, 30976)             0         \n",
      "                                                                 \n",
      " dense (Dense)               (None, 128)               3965056   \n",
      "                                                                 \n",
      " dense_1 (Dense)             (None, 2)                 258       \n",
      "                                                                 \n",
      "=================================================================\n",
      "Total params: 3,988,898\n",
      "Trainable params: 3,988,898\n",
      "Non-trainable params: 0\n",
      "_________________________________________________________________\n"
     ]
    }
   ],
   "source": [
    "model.summary()\n"
   ]
  },
  {
   "cell_type": "code",
   "execution_count": 30,
   "id": "94904579",
   "metadata": {},
   "outputs": [
    {
     "name": "stdout",
     "output_type": "stream",
     "text": [
      "Epoch 1/10\n",
      "1/1 [==============================] - 3s 3s/step - loss: 0.6933 - accuracy: 0.4516 - val_loss: 0.6756 - val_accuracy: 0.5714\n",
      "Epoch 2/10\n",
      "1/1 [==============================] - 2s 2s/step - loss: 0.6523 - accuracy: 0.7419 - val_loss: 0.5647 - val_accuracy: 0.7143\n",
      "Epoch 3/10\n",
      "1/1 [==============================] - 2s 2s/step - loss: 0.6479 - accuracy: 0.6774 - val_loss: 1.2422 - val_accuracy: 0.2857\n",
      "Epoch 4/10\n",
      "1/1 [==============================] - 2s 2s/step - loss: 0.9411 - accuracy: 0.5161 - val_loss: 0.7052 - val_accuracy: 0.5714\n",
      "Epoch 5/10\n",
      "1/1 [==============================] - 2s 2s/step - loss: 0.6176 - accuracy: 0.6129 - val_loss: 0.5626 - val_accuracy: 0.7143\n",
      "Epoch 6/10\n",
      "1/1 [==============================] - 2s 2s/step - loss: 0.6381 - accuracy: 0.7097 - val_loss: 0.5647 - val_accuracy: 0.7143\n",
      "Epoch 7/10\n",
      "1/1 [==============================] - 2s 2s/step - loss: 0.6619 - accuracy: 0.6129 - val_loss: 0.5810 - val_accuracy: 0.8571\n",
      "Epoch 8/10\n",
      "1/1 [==============================] - 2s 2s/step - loss: 0.6323 - accuracy: 0.7097 - val_loss: 0.6107 - val_accuracy: 0.7143\n",
      "Epoch 9/10\n",
      "1/1 [==============================] - 2s 2s/step - loss: 0.6172 - accuracy: 0.6774 - val_loss: 0.6344 - val_accuracy: 0.5714\n",
      "Epoch 10/10\n",
      "1/1 [==============================] - 2s 2s/step - loss: 0.6132 - accuracy: 0.7097 - val_loss: 0.6496 - val_accuracy: 0.5714\n"
     ]
    }
   ],
   "source": [
    "epochs=10\n",
    "history = model.fit(\n",
    "  train_ds,\n",
    "  validation_data=val_ds,\n",
    "  epochs=epochs\n",
    ")\n"
   ]
  },
  {
   "cell_type": "code",
   "execution_count": 31,
   "id": "31034b23",
   "metadata": {},
   "outputs": [
    {
     "data": {
      "image/png": "[encoded data removed]",
      "text/plain": [
       "<Figure size 800x800 with 2 Axes>"
      ]
     },
     "metadata": {},
     "output_type": "display_data"
    }
   ],
   "source": [
    "acc = history.history['accuracy']\n",
    "val_acc = history.history['val_accuracy']\n",
    "\n",
    "loss = history.history['loss']\n",
    "val_loss = history.history['val_loss']\n",
    "\n",
    "epochs_range = range(epochs)\n",
    "\n",
    "plt.figure(figsize=(8, 8))\n",
    "plt.subplot(1, 2, 1)\n",
    "plt.plot(epochs_range, acc, label='Training Accuracy')\n",
    "plt.plot(epochs_range, val_acc, label='Validation Accuracy')\n",
    "plt.legend(loc='lower right')\n",
    "plt.title('Training and Validation Accuracy')\n",
    "\n",
    "plt.subplot(1, 2, 2)\n",
    "plt.plot(epochs_range, loss, label='Training Loss')\n",
    "plt.plot(epochs_range, val_loss, label='Validation Loss')\n",
    "plt.legend(loc='upper right')\n",
    "plt.title('Training and Validation Loss')\n",
    "plt.show()\n"
   ]
  },
  {
   "cell_type": "markdown",
   "id": "62a2ea9d",
   "metadata": {},
   "source": [
    "## RESNet Model"
   ]
  },
  {
   "cell_type": "markdown",
   "id": "25ca098f",
   "metadata": {},
   "source": [
    "ResNet model wants the input shape (224,224)"
   ]
  },
  {
   "cell_type": "code",
   "execution_count": 37,
   "id": "14e2257a",
   "metadata": {},
   "outputs": [],
   "source": [
    "batch_size = 32\n",
    "img_height = 224\n",
    "img_width = 224\n"
   ]
  },
  {
   "cell_type": "code",
   "execution_count": 38,
   "id": "f4ba6903",
   "metadata": {},
   "outputs": [
    {
     "name": "stdout",
     "output_type": "stream",
     "text": [
      "Found 38 files belonging to 2 classes.\n",
      "Using 31 files for training.\n"
     ]
    }
   ],
   "source": [
    "train_ds = tf.keras.utils.image_dataset_from_directory(\n",
    "  \"data/jpg_image_files\",\n",
    "  validation_split=0.2,\n",
    "  subset=\"training\",\n",
    "  seed=123,\n",
    "  image_size=(img_height, img_width),\n",
    "  batch_size=batch_size)\n"
   ]
  },
  {
   "cell_type": "code",
   "execution_count": 39,
   "id": "db66b63c",
   "metadata": {},
   "outputs": [
    {
     "name": "stdout",
     "output_type": "stream",
     "text": [
      "Found 38 files belonging to 2 classes.\n",
      "Using 7 files for validation.\n"
     ]
    }
   ],
   "source": [
    "val_ds = tf.keras.utils.image_dataset_from_directory(\n",
    "  \"data/jpg_image_files\",\n",
    "  validation_split=0.2,\n",
    "  subset=\"validation\",\n",
    "  seed=123,\n",
    "  image_size=(img_height, img_width),\n",
    "  batch_size=batch_size)\n"
   ]
  },
  {
   "cell_type": "code",
   "execution_count": 40,
   "id": "2da572bc",
   "metadata": {},
   "outputs": [
    {
     "name": "stdout",
     "output_type": "stream",
     "text": [
      "['with_contrails', 'without_contrails']\n"
     ]
    }
   ],
   "source": [
    "class_names = train_ds.class_names\n",
    "print(class_names)"
   ]
  },
  {
   "cell_type": "code",
   "execution_count": 41,
   "id": "16345cbb",
   "metadata": {},
   "outputs": [],
   "source": [
    "res_model = tf.keras.applications.ResNet50V2(\n",
    "    include_top=True,\n",
    "    weights=\"imagenet\",\n",
    "    input_tensor=None,\n",
    "    input_shape=None,\n",
    "    classifier_activation=\"softmax\",\n",
    ")\n",
    "res_model.compile(optimizer='adam',\n",
    "              loss=tf.keras.losses.SparseCategoricalCrossentropy(from_logits=True),\n",
    "              metrics=['accuracy'])\n"
   ]
  },
  {
   "cell_type": "markdown",
   "id": "cdde4cdf",
   "metadata": {},
   "source": [
    "## Some transfer learning. We are freezing the layers 0-170."
   ]
  },
  {
   "cell_type": "code",
   "execution_count": 42,
   "id": "60c85687",
   "metadata": {},
   "outputs": [],
   "source": [
    "for layer in res_model.layers[:170]:\n",
    "    layer.trainable = False"
   ]
  },
  {
   "cell_type": "code",
   "execution_count": 43,
   "id": "69fe9908",
   "metadata": {},
   "outputs": [
    {
     "name": "stdout",
     "output_type": "stream",
     "text": [
      "Epoch 1/10\n",
      "1/1 [==============================] - 16s 16s/step - loss: 7.5354 - accuracy: 0.0000e+00 - val_loss: 20.5027 - val_accuracy: 0.0000e+00\n",
      "Epoch 2/10\n",
      "1/1 [==============================] - 11s 11s/step - loss: 4.7247 - accuracy: 0.2258 - val_loss: 11.8645 - val_accuracy: 0.0000e+00\n",
      "Epoch 3/10\n",
      "1/1 [==============================] - 9s 9s/step - loss: 1.7990 - accuracy: 0.9355 - val_loss: 11.9384 - val_accuracy: 0.0000e+00\n",
      "Epoch 4/10\n",
      "1/1 [==============================] - 9s 9s/step - loss: 1.3372 - accuracy: 0.9032 - val_loss: 13.7430 - val_accuracy: 0.0000e+00\n",
      "Epoch 5/10\n",
      "1/1 [==============================] - 10s 10s/step - loss: 0.7882 - accuracy: 1.0000 - val_loss: 5.7562 - val_accuracy: 0.4286\n",
      "Epoch 6/10\n",
      "1/1 [==============================] - 10s 10s/step - loss: 0.4682 - accuracy: 0.9355 - val_loss: 5.6363 - val_accuracy: 0.7143\n",
      "Epoch 7/10\n",
      "1/1 [==============================] - 10s 10s/step - loss: 0.1320 - accuracy: 1.0000 - val_loss: 6.6088 - val_accuracy: 0.7143\n",
      "Epoch 8/10\n",
      "1/1 [==============================] - 9s 9s/step - loss: 0.0553 - accuracy: 1.0000 - val_loss: 5.8623 - val_accuracy: 0.7143\n",
      "Epoch 9/10\n",
      "1/1 [==============================] - 9s 9s/step - loss: 0.0118 - accuracy: 1.0000 - val_loss: 6.2793 - val_accuracy: 0.7143\n",
      "Epoch 10/10\n",
      "1/1 [==============================] - 9s 9s/step - loss: 0.0049 - accuracy: 1.0000 - val_loss: 6.8320 - val_accuracy: 0.7143\n"
     ]
    }
   ],
   "source": [
    "epochs=10\n",
    "history_res_model = res_model.fit(\n",
    "  train_ds,\n",
    "  validation_data=val_ds,\n",
    "  epochs=epochs\n",
    ")"
   ]
  },
  {
   "cell_type": "code",
   "execution_count": 46,
   "id": "c5cb6d03",
   "metadata": {},
   "outputs": [
    {
     "data": {
      "image/png": "[encoded data removed]",
      "text/plain": [
       "<Figure size 800x800 with 2 Axes>"
      ]
     },
     "metadata": {},
     "output_type": "display_data"
    }
   ],
   "source": [
    "acc = history_res_model.history['accuracy']\n",
    "val_acc = history_res_model.history['val_accuracy']\n",
    "\n",
    "loss = history_res_model.history['loss']\n",
    "val_loss = history_res_model.history['val_loss']\n",
    "\n",
    "epochs_range = range(epochs)\n",
    "\n",
    "plt.figure(figsize=(8, 8))\n",
    "plt.subplot(1, 2, 1)\n",
    "plt.plot(epochs_range, acc, label='Training Accuracy')\n",
    "plt.plot(epochs_range, val_acc, label='Validation Accuracy')\n",
    "plt.legend(loc='lower right')\n",
    "plt.title('Training and Validation Accuracy for ResNet50')\n",
    "\n",
    "plt.subplot(1, 2, 2)\n",
    "plt.plot(epochs_range, loss, label='Training Loss')\n",
    "plt.plot(epochs_range, val_loss, label='Validation Loss')\n",
    "plt.legend(loc='upper right')\n",
    "plt.title('Training and Validation Loss for ResNet50')\n",
    "plt.show()\n"
   ]
  },
  {
   "cell_type": "markdown",
   "id": "f611735c",
   "metadata": {},
   "source": [
    "### RESNet Model but with a different type of optimizer function"
   ]
  },
  {
   "cell_type": "code",
   "execution_count": 56,
   "id": "75037c23",
   "metadata": {},
   "outputs": [],
   "source": [
    "res_model_newLoss = tf.keras.applications.ResNet50V2(\n",
    "    include_top=True,\n",
    "    weights=\"imagenet\",\n",
    "    input_tensor=None,\n",
    "    input_shape=None,\n",
    "    classifier_activation=\"softmax\",\n",
    ")"
   ]
  },
  {
   "cell_type": "code",
   "execution_count": 66,
   "id": "0d971303",
   "metadata": {},
   "outputs": [],
   "source": [
    "res_model_newLoss.compile(loss=tf.keras.losses.SparseCategoricalCrossentropy(from_logits=True),\n",
    "     optimizer=keras.optimizers.RMSprop(lr=2e-5), metrics=['accuracy'])"
   ]
  },
  {
   "cell_type": "code",
   "execution_count": 67,
   "id": "670afe1e",
   "metadata": {},
   "outputs": [],
   "source": [
    "for layer in res_model_newLoss.layers[:170]:\n",
    "    layer.trainable = False"
   ]
  },
  {
   "cell_type": "code",
   "execution_count": 68,
   "id": "38779bee",
   "metadata": {},
   "outputs": [
    {
     "name": "stdout",
     "output_type": "stream",
     "text": [
      "Epoch 1/10\n",
      "1/1 [==============================] - 9s 9s/step - loss: 7.0927 - accuracy: 0.0000e+00 - val_loss: 70.7234 - val_accuracy: 0.0000e+00\n",
      "Epoch 2/10\n",
      "1/1 [==============================] - 4s 4s/step - loss: 7.0285 - accuracy: 0.0000e+00 - val_loss: 52.7534 - val_accuracy: 0.0000e+00\n",
      "Epoch 3/10\n",
      "1/1 [==============================] - 5s 5s/step - loss: 6.9815 - accuracy: 0.0000e+00 - val_loss: 43.5578 - val_accuracy: 0.0000e+00\n",
      "Epoch 4/10\n",
      "1/1 [==============================] - 5s 5s/step - loss: 6.9416 - accuracy: 0.0000e+00 - val_loss: 37.6309 - val_accuracy: 0.0000e+00\n",
      "Epoch 5/10\n",
      "1/1 [==============================] - 4s 4s/step - loss: 6.9054 - accuracy: 0.0000e+00 - val_loss: 33.3672 - val_accuracy: 0.0000e+00\n",
      "Epoch 6/10\n",
      "1/1 [==============================] - 5s 5s/step - loss: 6.8718 - accuracy: 0.0000e+00 - val_loss: 30.0878 - val_accuracy: 0.0000e+00\n",
      "Epoch 7/10\n",
      "1/1 [==============================] - 4s 4s/step - loss: 6.8398 - accuracy: 0.0000e+00 - val_loss: 27.4537 - val_accuracy: 0.0000e+00\n",
      "Epoch 8/10\n",
      "1/1 [==============================] - 5s 5s/step - loss: 6.8091 - accuracy: 0.0000e+00 - val_loss: 25.2673 - val_accuracy: 0.0000e+00\n",
      "Epoch 9/10\n",
      "1/1 [==============================] - 4s 4s/step - loss: 6.7791 - accuracy: 0.0000e+00 - val_loss: 23.4115 - val_accuracy: 0.0000e+00\n",
      "Epoch 10/10\n",
      "1/1 [==============================] - 5s 5s/step - loss: 6.7498 - accuracy: 0.0000e+00 - val_loss: 21.8269 - val_accuracy: 0.0000e+00\n"
     ]
    }
   ],
   "source": [
    "epochs=10\n",
    "history_res_model_newLoss = res_model_newLoss.fit(\n",
    "  train_ds,\n",
    "  validation_data=val_ds,\n",
    "  epochs=epochs\n",
    ")"
   ]
  },
  {
   "cell_type": "code",
   "execution_count": null,
   "id": "dbd39a60",
   "metadata": {},
   "outputs": [],
   "source": []
  },
  {
   "cell_type": "code",
   "execution_count": 69,
   "id": "7302cbef",
   "metadata": {},
   "outputs": [
    {
     "data": {
      "image/png": "[encoded data removed]",
      "text/plain": [
       "<Figure size 800x800 with 2 Axes>"
      ]
     },
     "metadata": {},
     "output_type": "display_data"
    }
   ],
   "source": [
    "acc = history_res_model_newLoss.history['accuracy']\n",
    "val_acc = history_res_model_newLoss.history['val_accuracy']\n",
    "\n",
    "loss = history_res_model_newLoss.history['loss']\n",
    "val_loss = history_res_model_newLoss.history['val_loss']\n",
    "\n",
    "epochs_range = range(epochs)\n",
    "\n",
    "plt.figure(figsize=(8, 8))\n",
    "plt.subplot(1, 2, 1)\n",
    "plt.plot(epochs_range, acc, label='Training Accuracy')\n",
    "plt.plot(epochs_range, val_acc, label='Validation Accuracy')\n",
    "plt.legend(loc='lower right')\n",
    "plt.title('Training and Validation Accuracy for ResNet50')\n",
    "\n",
    "plt.subplot(1, 2, 2)\n",
    "plt.plot(epochs_range, loss, label='Training Loss')\n",
    "plt.plot(epochs_range, val_loss, label='Validation Loss')\n",
    "plt.legend(loc='upper right')\n",
    "plt.title('Training and Validation Loss for ResNet50')\n",
    "plt.show()\n"
   ]
  },
  {
   "cell_type": "code",
   "execution_count": null,
   "id": "a8dfbc05",
   "metadata": {},
   "outputs": [],
   "source": []
  },
  {
   "cell_type": "code",
   "execution_count": null,
   "id": "ac1bb519",
   "metadata": {},
   "outputs": [],
   "source": []
  },
  {
   "cell_type": "code",
   "execution_count": 51,
   "id": "27231b8c",
   "metadata": {},
   "outputs": [],
   "source": [
    "# import glob\n",
    "# import tensorflow as tf\n",
    "# import numpy as np\n",
    "# from PIL import Image\n",
    "# YES_path = glob.glob('data/tif_image_files/with_contrails/*.*')\n",
    "# YES_path = [i.replace(\"\\\\\",\"/\") for i in YES_path]\n",
    "# NO_path = glob.glob('data/tif_image_files/without_contrails/*.*')\n",
    "# NO_path = [i.replace(\"\\\\\",\"/\") for i in NO_path]\n",
    "\n",
    "\n",
    "# data = []\n",
    "# labels = []\n",
    "\n",
    "# for i in YES_path[:2]:   \n",
    "#     image=tf.keras.preprocessing.image.load_img(i, color_mode='rgb',target_size= (280,280) )\n",
    "#     image=np.array(image)\n",
    "#     data.append(image)\n",
    "#     labels.append(1)\n",
    "# for i in NO_path[:2]:   \n",
    "#     image=tf.keras.preprocessing.image.load_img(i, color_mode='rgb',target_size= (280,280))\n",
    "#     image=np.array(image)\n",
    "#     data.append(image)\n",
    "#     labels.append(0)\n",
    "\n",
    "# data = np.array(data)\n",
    "# labels = np.array(labels)"
   ]
  },
  {
   "cell_type": "code",
   "execution_count": null,
   "id": "c8d15d8a",
   "metadata": {},
   "outputs": [],
   "source": []
  },
  {
   "cell_type": "code",
   "execution_count": null,
   "id": "a2c524fd",
   "metadata": {},
   "outputs": [],
   "source": []
  },
  {
   "cell_type": "code",
   "execution_count": null,
   "id": "9aba8fcd",
   "metadata": {},
   "outputs": [],
   "source": []
  },
  {
   "cell_type": "code",
   "execution_count": null,
   "id": "c30a158f",
   "metadata": {},
   "outputs": [],
   "source": []
  },
  {
   "cell_type": "code",
   "execution_count": null,
   "id": "8ae8b072",
   "metadata": {},
   "outputs": [],
   "source": []
  }
 ],
 "metadata": {
  "kernelspec": {
   "display_name": "tf",
   "language": "python",
   "name": "tf"
  },
  "language_info": {
   "codemirror_mode": {
    "name": "ipython",
    "version": 3
   },
   "file_extension": ".py",
   "mimetype": "text/x-python",
   "name": "python",
   "nbconvert_exporter": "python",
   "pygments_lexer": "ipython3",
   "version": "3.9.13"
  }
 },
 "nbformat": 4,
 "nbformat_minor": 5
}
